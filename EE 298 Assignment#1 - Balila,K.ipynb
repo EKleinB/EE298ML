{
 "cells": [
  {
   "cell_type": "markdown",
   "metadata": {},
   "source": [
    "# EE 298 Machine Learning\n",
    "### Submitted by Edwin Klein Balila\n",
    "<br>Assignment #1<br>\n"
   ]
  },
  {
   "cell_type": "code",
   "execution_count": 268,
   "metadata": {},
   "outputs": [],
   "source": [
    "import numpy as np\n",
    "import matplotlib.pyplot as plt\n",
    "import math"
   ]
  },
  {
   "cell_type": "markdown",
   "metadata": {},
   "source": [
    "### 1. Generate a 16×16 − dim position encoding using an interweaved sin(.) and cos(.) functions: 𝑩 = {𝒃1, 𝒃2,,…, 𝒃16} where 𝒃i ∈ ℝ^16. Distribute the domain of 8-dim between 0 to 2𝜋."
   ]
  },
  {
   "cell_type": "code",
   "execution_count": 2,
   "metadata": {},
   "outputs": [],
   "source": [
    "# Code is based from https://www.tensorflow.org/tutorials/text/transformer\n",
    "\n",
    "def positional_encoding(position, d_model):\n",
    "\n",
    "    # distributing domain 0 to 2pi. dividing by 8\n",
    "    X = np.linspace((1/4)*math.pi, (2)*math.pi, num=8)/position\n",
    "    X = np.repeat(X, 2)[np.newaxis, :]\n",
    "    X = np.arange(position)[:,np.newaxis] * X\n",
    " \n",
    "    pos_encoding = np.zeros((position,d_model))\n",
    "\n",
    "    # apply sin to even indices in the array; 2i\n",
    "    pos_encoding[:, 0::2] = np.sin(X[:, 0::2])\n",
    "      \n",
    "    # apply cos to odd indices in the array; 2i+1\n",
    "    pos_encoding[:, 1::2] = np.cos(X[:, 1::2])\n",
    "        \n",
    "    pos_encoding = pos_encoding[np.newaxis, ...]\n",
    "        \n",
    "    return pos_encoding\n",
    "\n",
    "tokens = 16\n",
    "dimensions = 16\n",
    "\n",
    "pos_encoding = positional_encoding(tokens, dimensions)\n",
    "print (pos_encoding.shape)"
   ]
  },
  {
   "cell_type": "markdown",
   "metadata": {},
   "source": [
    "## 2. If 𝑩 is a set of basis vectors, are the vectors orthogonal? Orthonomal? If not, make the basis vectors orthogonal and orthonormal using G-S method."
   ]
  },
  {
   "cell_type": "code",
   "execution_count": 20,
   "metadata": {},
   "outputs": [],
   "source": [
    "# code is based from https://www.math.uci.edu/~ttrogdon/105A/html/Lecture23.html\n",
    "\n",
    "# Classical Gram-Schmidt Orthogonalization\n",
    "\n",
    "def GScoef(v2, v1):\n",
    "    return np.dot(v2,v1)/np.dot(v1,v1)\n",
    "\n",
    "def Normalize(x):\n",
    "    return x/np.linalg.norm(x)\n",
    "\n",
    "def gs(X):\n",
    "    Y = []\n",
    "    for i in range(len(X)):\n",
    "        Tvector = X[i]\n",
    "        for b in X:\n",
    "            project_vec = GScoef(X[i], b) * b\n",
    "            Tvector = Tvector - project_vec\n",
    "        Y.append(Normalize(Tvector))\n",
    "    return np.vstack(Y)\n"
   ]
  },
  {
   "cell_type": "markdown",
   "metadata": {},
   "source": [
    "It turns out that classical gram-schmidt orthogonalization is unstable numerically due to accumulated round off errors.\n"
   ]
  },
  {
   "cell_type": "code",
   "execution_count": 147,
   "metadata": {},
   "outputs": [],
   "source": [
    "# code is based from https://www.math.uci.edu/~ttrogdon/105A/html/Lecture23.html\n",
    "\n",
    "# Modified Gram-Schmidt Orthogonalization\n",
    "\n",
    "def GScoef(v2, v1):\n",
    "    return np.dot(v2,v1)/np.dot(v1,v1)\n",
    "\n",
    "def Normalize(x):\n",
    "    return x/np.linalg.norm(x)\n",
    "\n",
    "def modifiedgs(X):\n",
    "\n",
    "    Tvector = []\n",
    "    TNorm = []\n",
    "\n",
    "    for j in range(len(X)):\n",
    "        Tvector.append(X[j])\n",
    "\n",
    "    for j in range(len(X)):\n",
    "        TNorm.append(Normalize(Tvector[j]))\n",
    "\n",
    "        for k in range(j+1, len(X)):\n",
    "            project_vec = GScoef(Tvector[k], TNorm[j]) * TNorm[j]\n",
    "            Tvector[k] = Tvector[k] - project_vec\n",
    "\n",
    "    return np.vstack(TNorm)"
   ]
  },
  {
   "cell_type": "markdown",
   "metadata": {},
   "source": [
    "Define Functions Orthogonal, Normal and Orthonormal"
   ]
  },
  {
   "cell_type": "code",
   "execution_count": 259,
   "metadata": {},
   "outputs": [],
   "source": [
    "def orthogonaltest(X):\n",
    "    \n",
    "    V = np.matmul(X,X.T)\n",
    "    V = np.round(V)\n",
    "    #print(V)\n",
    "    \n",
    "    #check if X*X.T is an identity.\n",
    "    for i in range(len(V)):\n",
    "        if np.isclose(V[i][i],1):\n",
    "            return True\n",
    "    return False\n",
    "\n",
    "def normtest(X):\n",
    "    for i in range(X.shape[0]):\n",
    "        norm = np.dot(X[i] , X[i])\n",
    "        norm = round(norm)\n",
    "        #print(norm)\n",
    "        \n",
    "        #checks if norm is 1\n",
    "        if np.isclose(norm, 1.):\n",
    "            return True\n",
    "    return False\n",
    "\n",
    "def orthonormaltest(X):\n",
    "    if orthogonaltest(X) & normtest(X):\n",
    "        return True\n",
    "    return False\n",
    "    "
   ]
  },
  {
   "cell_type": "markdown",
   "metadata": {},
   "source": [
    "Checks if Orthogonal, Normalize and Orthonormal"
   ]
  },
  {
   "cell_type": "code",
   "execution_count": 264,
   "metadata": {},
   "outputs": [
    {
     "name": "stdout",
     "output_type": "stream",
     "text": [
      "Basis Vectors are Orthogonal:  False\n",
      "Basis Vectors are Normalized:  False\n",
      "Basis Vectors are Orthonormal:  False\n"
     ]
    }
   ],
   "source": [
    "print(\"Basis Vectors are Orthogonal: \", orthogonaltest(pos_encoding[0]))\n",
    "print(\"Basis Vectors are Normalized: \", normtest(pos_encoding[0]))\n",
    "print(\"Basis Vectors are Orthonormal: \", orthonormaltest(pos_encoding[0]))"
   ]
  },
  {
   "cell_type": "markdown",
   "metadata": {},
   "source": [
    "Make the Basis Vectors Orthogonal and OrthoNormal using Modified Gram-Schmidt Method. Check if Orthogonal, Normalize and Orthonormal"
   ]
  },
  {
   "cell_type": "code",
   "execution_count": 266,
   "metadata": {},
   "outputs": [
    {
     "name": "stdout",
     "output_type": "stream",
     "text": [
      "Basis Vectors are Orthogonal:  True\n",
      "Basis Vectors are Normalized:  True\n",
      "Basis Vectors are Orthonormal:  True\n"
     ]
    }
   ],
   "source": [
    "new = modifiedgs(pos_encoding[0])\n",
    "print(\"Basis Vectors are Orthogonal: \", orthogonality(new))\n",
    "print(\"Basis Vectors are Normalized: \", normtest(new))\n",
    "print(\"Basis Vectors are Orthonormal: \", orthonormaltest(new))"
   ]
  },
  {
   "cell_type": "markdown",
   "metadata": {},
   "source": [
    "## 3. Colored Visualization of vectors"
   ]
  },
  {
   "cell_type": "code",
   "execution_count": 267,
   "metadata": {},
   "outputs": [
    {
     "data": {
      "image/png": "[encoded data removed]",
      "text/plain": [
       "<Figure size 864x576 with 2 Axes>"
      ]
     },
     "metadata": {
      "needs_background": "light"
     },
     "output_type": "display_data"
    }
   ],
   "source": [
    "plt.figure(figsize=(12,8))\n",
    "plt.pcolormesh(pos_encoding[0], cmap='viridis')\n",
    "plt.xlabel('Embedding Dimensions')\n",
    "plt.xlim((0, dimensions))\n",
    "plt.ylim((tokens,0))\n",
    "plt.ylabel('Token Position')\n",
    "plt.colorbar()\n",
    "plt.show()"
   ]
  },
  {
   "cell_type": "markdown",
   "metadata": {},
   "source": [
    "Orthonormal Positional Encoding"
   ]
  },
  {
   "cell_type": "code",
   "execution_count": 144,
   "metadata": {},
   "outputs": [
    {
     "data": {
      "image/png": "[encoded data removed]",
      "text/plain": [
       "<Figure size 864x576 with 2 Axes>"
      ]
     },
     "metadata": {
      "needs_background": "light"
     },
     "output_type": "display_data"
    }
   ],
   "source": [
    "plt.figure(figsize=(12,8))\n",
    "plt.pcolormesh(new, cmap='viridis')\n",
    "plt.xlabel('Embedding Dimensions')\n",
    "plt.xlim((0, 16))\n",
    "plt.ylim((16,0))\n",
    "plt.ylabel('Token Position')\n",
    "plt.colorbar()\n",
    "plt.show()"
   ]
  }
 ],
 "metadata": {
  "kernelspec": {
   "display_name": "Python 3",
   "language": "python",
   "name": "python3"
  },
  "language_info": {
   "codemirror_mode": {
    "name": "ipython",
    "version": 3
   },
   "file_extension": ".py",
   "mimetype": "text/x-python",
   "name": "python",
   "nbconvert_exporter": "python",
   "pygments_lexer": "ipython3",
   "version": "3.7.6"
  }
 },
 "nbformat": 4,
 "nbformat_minor": 4
}
