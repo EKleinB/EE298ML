{
 "cells": [
  {
   "cell_type": "markdown",
   "metadata": {},
   "source": [
    "# Foundations of Machine Learning EE298\n",
    "## Assignment No. 2 : Backpropagation\n",
    "### Edwin Klein S. Balila"
   ]
  },
  {
   "cell_type": "code",
   "execution_count": 55,
   "metadata": {},
   "outputs": [],
   "source": [
    "#load libraries\n",
    "import numpy as np\n",
    "from matplotlib import pyplot as plt\n",
    "from math import pi\n",
    "import random"
   ]
  },
  {
   "cell_type": "code",
   "execution_count": 119,
   "metadata": {},
   "outputs": [],
   "source": [
    "#Define PDF function\n",
    "def NormalPdf(inp, mean, stand):\n",
    "    firstterm = 1/(np.sqrt(2*pi*(std**2)))\n",
    "    secondterm = np.exp(-((inp-mean)**2)/(2*(std**2)))\n",
    "    out = firstterm*secondterm\n",
    "    return out"
   ]
  },
  {
   "cell_type": "markdown",
   "metadata": {},
   "source": [
    "\n",
    "### Supply the mean and standard deviation of 1D Gaussian"
   ]
  },
  {
   "cell_type": "code",
   "execution_count": 347,
   "metadata": {},
   "outputs": [
    {
     "name": "stdout",
     "output_type": "stream",
     "text": [
      "Enter desired mean: 0\n",
      "Enter desired std: 1\n"
     ]
    }
   ],
   "source": [
    "mean = float(input(\"Enter desired mean: \"))\n",
    "std = float(input(\"Enter desired std: \"))"
   ]
  },
  {
   "cell_type": "code",
   "execution_count": 348,
   "metadata": {},
   "outputs": [
    {
     "data": {
      "image/png": "[encoded data removed]",
      "text/plain": [
       "<Figure size 432x288 with 1 Axes>"
      ]
     },
     "metadata": {
      "needs_background": "light"
     },
     "output_type": "display_data"
    }
   ],
   "source": [
    "# generate random Gaussian values\n",
    "from random import seed\n",
    "from random import gauss\n",
    "# seed random number generator\n",
    "seed(1)\n",
    "values = [] # declare container of gaussian values\n",
    "# generate some Gaussian values\n",
    "for _ in range(1000000):\n",
    "    values.append(gauss(mean,std))\n",
    "    \n",
    "# display plot\n",
    "plt.hist(values, bins = 10000)\n",
    "plt.show()"
   ]
  },
  {
   "cell_type": "code",
   "execution_count": 349,
   "metadata": {},
   "outputs": [
    {
     "name": "stdout",
     "output_type": "stream",
     "text": [
      "Check Mean: -0.00023916277759317806\n",
      "Check STD: 1.0004030866024871\n"
     ]
    }
   ],
   "source": [
    "print(\"Check Mean:\", np.mean(values))\n",
    "print(\"Check STD:\", np.std(values))"
   ]
  },
  {
   "cell_type": "markdown",
   "metadata": {},
   "source": [
    "### Create Sample"
   ]
  },
  {
   "cell_type": "code",
   "execution_count": 350,
   "metadata": {},
   "outputs": [
    {
     "data": {
      "image/png": "[encoded data removed]",
      "text/plain": [
       "<Figure size 432x288 with 1 Axes>"
      ]
     },
     "metadata": {
      "needs_background": "light"
     },
     "output_type": "display_data"
    }
   ],
   "source": [
    "# limit our values between two stds\n",
    "X = [x for x in values if abs(x)<=2*std]\n",
    "\n",
    "plt.hist(X, bins=1000)\n",
    "plt.show()"
   ]
  },
  {
   "cell_type": "code",
   "execution_count": 351,
   "metadata": {},
   "outputs": [
    {
     "name": "stdout",
     "output_type": "stream",
     "text": [
      "1000\n"
     ]
    },
    {
     "data": {
      "image/png": "[encoded data removed]",
      "text/plain": [
       "<Figure size 432x288 with 1 Axes>"
      ]
     },
     "metadata": {
      "needs_background": "light"
     },
     "output_type": "display_data"
    }
   ],
   "source": [
    "# select 1000 samples\n",
    "data = np.random.choice(X, 1000)\n",
    "print(len(data))\n",
    "\n",
    "# display plot\n",
    "plt.hist(data, bins=100)\n",
    "plt.show()"
   ]
  },
  {
   "cell_type": "code",
   "execution_count": 352,
   "metadata": {},
   "outputs": [
    {
     "data": {
      "image/png": "[encoded data removed]",
      "text/plain": [
       "<Figure size 432x288 with 1 Axes>"
      ]
     },
     "metadata": {
      "needs_background": "light"
     },
     "output_type": "display_data"
    }
   ],
   "source": [
    "from collections import Counter\n",
    "\n",
    "counter = Counter(data)\n",
    "pmf = NormalPdf(data, mean, std)\n",
    "\n",
    "plt.hist(pmf, bins=100)\n",
    "plt.show()"
   ]
  },
  {
   "cell_type": "code",
   "execution_count": 353,
   "metadata": {},
   "outputs": [],
   "source": [
    "#data"
   ]
  },
  {
   "cell_type": "code",
   "execution_count": 354,
   "metadata": {},
   "outputs": [],
   "source": [
    "#pmf"
   ]
  },
  {
   "cell_type": "markdown",
   "metadata": {},
   "source": [
    "### Train, test, split"
   ]
  },
  {
   "cell_type": "code",
   "execution_count": 355,
   "metadata": {},
   "outputs": [],
   "source": [
    "# to split train and test data\n",
    "from sklearn.model_selection import train_test_split\n",
    "X_train, X_test, y_train, y_test =  train_test_split(data, pmf, test_size = 0.1, train_size = 0.9, random_state=0 )"
   ]
  },
  {
   "cell_type": "markdown",
   "metadata": {},
   "source": [
    "### Define Functions for Neural Network"
   ]
  },
  {
   "cell_type": "code",
   "execution_count": 356,
   "metadata": {},
   "outputs": [],
   "source": [
    "#reLU function\n",
    "def relu(X):\n",
    "   return np.maximum(0.0,X)\n",
    "#reLU function derivative\n",
    "def reLuP(X):\n",
    "    # derivative of the ReLU\n",
    "    X[X <= 0] = 0\n",
    "    X[X >  0] = 1    \n",
    "    return X\n",
    "\n",
    "#sigmoid function\n",
    "def nonlin(x):\n",
    "    return 1/(1+np.exp(-x))\n",
    "#sigmoid funtion derivative\n",
    "def sigmoid_derivative(x):\n",
    "        #computing derivative to the Sigmoid function\n",
    "        return x * (1 - x)"
   ]
  },
  {
   "cell_type": "markdown",
   "metadata": {},
   "source": [
    "# Create Training Model"
   ]
  },
  {
   "cell_type": "code",
   "execution_count": 357,
   "metadata": {},
   "outputs": [],
   "source": [
    "random.seed(0)\n",
    "\n",
    "x = X_train.reshape(len(X_train),1)\n",
    "y = y_train.reshape(len(y_train),1).T\n",
    "\n",
    "gamma=0.1 # Learning Rate\n",
    "\n",
    "# initialize weights randomly with mean 0 and standard deviation 0.01\n",
    "w0 = []\n",
    "w1 = []\n",
    "w2 = []\n",
    "\n",
    "for _ in range(64):\n",
    "    w0.append(gauss(0,0.01))\n",
    "    w2.append(gauss(0,0.01))\n",
    "\n",
    "for _ in range(64*64):\n",
    "    w1.append(gauss(0,0.01))\n",
    "\n",
    "# reshape for dot product\n",
    "w0 = np.array(w0).reshape(-1,1).T\n",
    "w1 = np.array(w1).reshape(64,64)\n",
    "w2 = np.array(w2).reshape(-1,1)\n"
   ]
  },
  {
   "cell_type": "markdown",
   "metadata": {},
   "source": [
    "### Perform Forward Propagation and Backward Propagation"
   ]
  },
  {
   "cell_type": "code",
   "execution_count": 358,
   "metadata": {},
   "outputs": [
    {
     "name": "stdout",
     "output_type": "stream",
     "text": [
      "Epoch 1 MSE: 0.04920540582205631\n",
      "Epoch 2 MSE: 0.04920515562983048\n",
      "Epoch 3 MSE: 0.04920490693998077\n",
      "Epoch 4 MSE: 0.04920464100203046\n",
      "Epoch 5 MSE: 0.049204356284343394\n",
      "Epoch 6 MSE: 0.049204051058117766\n",
      "Epoch 7 MSE: 0.04920372336148692\n",
      "Epoch 8 MSE: 0.04920337095526856\n",
      "Epoch 9 MSE: 0.04920299503579928\n",
      "Epoch 10 MSE: 0.04920259676794917\n",
      "Epoch 11 MSE: 0.04920216701504682\n",
      "Epoch 12 MSE: 0.04920170123879894\n",
      "Epoch 13 MSE: 0.04920120320329774\n",
      "Epoch 14 MSE: 0.04920065861244273\n",
      "Epoch 15 MSE: 0.0492000682264334\n",
      "Epoch 16 MSE: 0.04919944757751835\n",
      "Epoch 17 MSE: 0.04919876335796315\n",
      "Epoch 18 MSE: 0.04919800555430137\n",
      "Epoch 19 MSE: 0.049197161480062555\n",
      "Epoch 20 MSE: 0.049196222879246486\n"
     ]
    }
   ],
   "source": [
    "from sklearn.metrics import mean_squared_error\n",
    "\n",
    "Epochs = 20\n",
    "for iter in range(20):\n",
    "    # forward propagation\n",
    "    layer0 = x\n",
    "    layer1 = relu(np.dot(layer0,w0))\n",
    "    layer2 = relu(np.dot(layer1,w1))\n",
    "    layer3 = nonlin(np.dot(layer2,w2))\n",
    "\n",
    "            \n",
    "    # Backpropagation\n",
    "    # Mean Square Error\n",
    "    outLayer_error = np.square(y - layer3)\n",
    "    \n",
    "\n",
    "    MSE = mean_squared_error(y_train, layer3)\n",
    "    \n",
    "    print(\"Epoch\",iter+1,\"MSE:\", MSE)\n",
    "    \n",
    "    layer3_delta = outLayer_error.dot(sigmoid_derivative(np.dot(layer2,w2)))\n",
    "    layer2_delta = layer3_delta.dot(w2.T)*reLuP(np.dot(layer1,w1))\n",
    "    layer1_delta = layer2_delta.dot(w1.T)*reLuP(np.dot(layer0,w0))\n",
    "    \n",
    "    #update the weights\n",
    "    w2 += gamma*np.dot(layer2.T,layer3_delta)\n",
    "    w1 += gamma*np.dot(layer1.T,layer2_delta)\n",
    "    w0 += gamma*np.dot(layer0.T,layer1_delta)"
   ]
  },
  {
   "cell_type": "markdown",
   "metadata": {},
   "source": [
    "# Testing and Evaluation"
   ]
  },
  {
   "cell_type": "code",
   "execution_count": 360,
   "metadata": {},
   "outputs": [
    {
     "name": "stdout",
     "output_type": "stream",
     "text": [
      "MSE: 0.05756191293998485\n"
     ]
    }
   ],
   "source": [
    "x1 = X_test.reshape(len(X_test),1)\n",
    "y1 = y_test.reshape(len(y_test),1).T\n",
    "\n",
    "layer0 = x1\n",
    "layer1 = relu(np.dot(layer0,w0))\n",
    "layer2 = relu(np.dot(layer1,w1))\n",
    "layer3 = nonlin(np.dot(layer2,w2))\n",
    "\n",
    "# Mean Square Error\n",
    "MSE = mean_squared_error(y_test, layer3)\n",
    "print(\"MSE:\", MSE)"
   ]
  }
 ],
 "metadata": {
  "kernelspec": {
   "display_name": "Python 3",
   "language": "python",
   "name": "python3"
  },
  "language_info": {
   "codemirror_mode": {
    "name": "ipython",
    "version": 3
   },
   "file_extension": ".py",
   "mimetype": "text/x-python",
   "name": "python",
   "nbconvert_exporter": "python",
   "pygments_lexer": "ipython3",
   "version": "3.7.6"
  }
 },
 "nbformat": 4,
 "nbformat_minor": 4
}
